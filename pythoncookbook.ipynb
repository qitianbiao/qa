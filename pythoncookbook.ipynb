{
 "cells": [
  {
   "cell_type": "markdown",
   "metadata": {},
   "source": [
    "# DICT\n",
    "## 给字典排序"
   ]
  },
  {
   "cell_type": "markdown",
   "metadata": {},
   "source": [
    "### 字典是无序的，排序则需要对字典进行格式转换"
   ]
  },
  {
   "cell_type": "code",
   "execution_count": 1,
   "metadata": {
    "scrolled": true
   },
   "outputs": [
    {
     "data": {
      "text/plain": [
       "\"sorted price is [(10, 'ALAPHA'), (33, 'SITA'), (100, 'BETA'), (470, 'GAMA')] and the max is (470, 'GAMA')\""
      ]
     },
     "execution_count": 1,
     "metadata": {},
     "output_type": "execute_result"
    }
   ],
   "source": [
    "price = { 'ALAPHA': 10, 'BETA': 100,  'SITA': 33,  'GAMA': 470}\n",
    "sorted_price = sorted(zip(price.values(), price.keys()))\n",
    "max_price = max(zip(price.values(), price.keys()))\n",
    "'sorted price is {} and the max is {}'.format(sorted_price, max_price)"
   ]
  },
  {
   "cell_type": "markdown",
   "metadata": {},
   "source": [
    "### 传递参数来进行排序也很优雅"
   ]
  },
  {
   "cell_type": "code",
   "execution_count": 2,
   "metadata": {
    "scrolled": false
   },
   "outputs": [
    {
     "data": {
      "text/plain": [
       "'GAMA'"
      ]
     },
     "execution_count": 2,
     "metadata": {},
     "output_type": "execute_result"
    }
   ],
   "source": [
    "max(price, key=lambda k: price[k])  # 注意，如果不注明，则默认指字典的Key"
   ]
  },
  {
   "cell_type": "markdown",
   "metadata": {},
   "source": [
    "### 非常复杂的字典进行排序，要用到operator模块itemgetter函数"
   ]
  },
  {
   "cell_type": "code",
   "execution_count": 3,
   "metadata": {},
   "outputs": [
    {
     "data": {
      "text/plain": [
       "[{'fname': 'Brian', 'lname': 'Chloe', 'uid': 1003},\n",
       " {'fname': 'Jack', 'lname': 'Chloe2', 'uid': 1002},\n",
       " {'fname': 'Ken', 'lname': 'Chloe3', 'uid': 1001},\n",
       " {'fname': 'Brian', 'lname': 'Chloe4', 'uid': 1004}]"
      ]
     },
     "execution_count": 3,
     "metadata": {},
     "output_type": "execute_result"
    }
   ],
   "source": [
    "rows = [\n",
    "    {'fname': 'Brian', 'lname': 'Chloe', 'uid': 1003},\n",
    "    {'fname': 'Jack', 'lname': 'Chloe2', 'uid': 1002},\n",
    "    {'fname': 'Ken', 'lname': 'Chloe3', 'uid': 1001},\n",
    "    {'fname': 'Brian', 'lname': 'Chloe4', 'uid': 1004},\n",
    "]\n",
    "\n",
    "from operator import itemgetter\n",
    "\n",
    "rows_by_fname = sorted(rows, key=itemgetter('fname'))\n",
    "rows_by_uid = sorted(rows, key=itemgetter('uid'))\n",
    "rows_by_lfname = sorted(rows, key=itemgetter('lname', 'fname'))\n",
    "\n",
    "rows_by_lfname = sorted(rows, key=lambda r: (r['lname'], r['fname']))  # 或者继续传递参数，跟上面一行语句效果一样\n",
    "\n",
    "rows_by_lfname"
   ]
  },
  {
   "cell_type": "markdown",
   "metadata": {},
   "source": [
    "#### 根据摸个特定的字段（比如日期）来分组迭代数据，可以用模块itertools的函数groupby"
   ]
  },
  {
   "cell_type": "code",
   "execution_count": 4,
   "metadata": {},
   "outputs": [
    {
     "name": "stdout",
     "output_type": "stream",
     "text": [
      "04/21/2012\n",
      "(' ', {'date': '04/21/2012', 'address': 'dewq3334 3'})\n",
      "(' ', {'date': '04/21/2012', 'address': 'jmjgyujhf'})\n",
      "05/06/2012\n",
      "(' ', {'date': '05/06/2012', 'address': 'dasrer we'})\n",
      "07/01/2012\n",
      "(' ', {'date': '07/01/2012', 'address': 'ekjrlks'})\n",
      "08/08/2012\n",
      "(' ', {'date': '08/08/2012', 'address': 'asdfebbb'})\n",
      "(' ', {'date': '08/08/2012', 'address': 'rrrrrase 33'})\n",
      "09/24/2012\n",
      "(' ', {'date': '09/24/2012', 'address': 'bbbadfe'})\n",
      "11/01/2012\n",
      "(' ', {'date': '11/01/2012', 'address': 'qqqqwer3444 rdsaf'})\n",
      "12/03/2012\n",
      "(' ', {'date': '12/03/2012', 'address': 'eewqqwefadf w3rdf'})\n"
     ]
    }
   ],
   "source": [
    "rows = [\n",
    "    {'address': 'ekjrlks', 'date': '07/01/2012'},\n",
    "    {'address': 'dewq3334 3', 'date': '04/21/2012'},\n",
    "    {'address': 'asdfebbb', 'date': '08/08/2012'},\n",
    "    {'address': 'rrrrrase 33', 'date': '08/08/2012'},\n",
    "    {'address': 'bbbadfe', 'date': '09/24/2012'},\n",
    "    {'address': 'qqqqwer3444 rdsaf', 'date': '11/01/2012'},\n",
    "    {'address': 'dasrer we', 'date': '05/06/2012'},\n",
    "    {'address': 'eewqqwefadf w3rdf', 'date': '12/03/2012'},\n",
    "    {'address': 'jmjgyujhf', 'date': '04/21/2012'}\n",
    "]\n",
    "\n",
    "from operator import itemgetter\n",
    "from itertools import groupby\n",
    "\n",
    "rows.sort(key=itemgetter('date'))  # itertools.groupby只能发现紧挨着的相同项，所以先要sort一下\n",
    "\n",
    "for date, items in groupby(rows, key=itemgetter('date')):  # groupby会生成一个值（在例子里面是date），和一个子迭代器（所有的项）\n",
    "    print(date)\n",
    "    for i in items:\n",
    "        print(' ', i)"
   ]
  },
  {
   "cell_type": "markdown",
   "metadata": {},
   "source": [
    "## 字典序列里取最大或最小的几个值，使用堆序列模块heapq"
   ]
  },
  {
   "cell_type": "code",
   "execution_count": 5,
   "metadata": {},
   "outputs": [
    {
     "name": "stdout",
     "output_type": "stream",
     "text": [
      "[42, 37, 23]\n",
      "[-4, 1, 2]\n",
      "[1, 8, 2, 23, 7, -4, 18, 23, 42, 37, 2]\n",
      "[-4, 2, 1, 23, 7, 2, 18, 23, 42, 37, 8]\n",
      "-4\n",
      "[1, 2, 2, 23, 7, 8, 18, 23, 42, 37]\n",
      "1\n",
      "[2, 2, 8, 23, 7, 37, 18, 23, 42]\n",
      "2\n",
      "[2, 7, 8, 23, 42, 37, 18, 23]\n",
      "2\n",
      "[7, 23, 8, 23, 42, 37, 18]\n"
     ]
    }
   ],
   "source": [
    "# 序列举例\n",
    "import heapq\n",
    "\n",
    "nums = [1, 8, 2, 23, 7, -4, 18, 23, 42, 37, 2]\n",
    "print(heapq.nlargest(3, nums))  # 最大三个\n",
    "print(heapq.nsmallest(3, nums))  # 最小三个\n",
    "\n",
    "print(nums)\n",
    "heapq.heapify(nums)  # nums元素会以“堆”的顺序排列，堆的特点就是第一个元素总是最小的那个，其它不论顺序。\n",
    "print(nums)\n",
    "print(heapq.heappop(nums))\n",
    "print(nums)\n",
    "print(heapq.heappop(nums))\n",
    "print(nums)\n",
    "print(heapq.heappop(nums))\n",
    "print(nums)\n",
    "print(heapq.heappop(nums))\n",
    "print(nums)"
   ]
  },
  {
   "cell_type": "code",
   "execution_count": 6,
   "metadata": {},
   "outputs": [
    {
     "name": "stdout",
     "output_type": "stream",
     "text": [
      "[{'price': 16.2, 'name': 'IBM4', 'shares': 122}, {'price': 31.75, 'name': 'IBM3', 'shares': 10}, {'price': 91.1, 'name': 'IBM', 'shares': 100}]\n",
      "[{'price': 520.1, 'name': 'IBM2', 'shares': 50}, {'price': 115.65, 'name': 'IBM5', 'shares': 70}, {'price': 91.1, 'name': 'IBM', 'shares': 100}]\n"
     ]
    }
   ],
   "source": [
    "# 字典序列时，可以像sort一样传入key，从而能处理复杂的数据\n",
    "portfolio = [\n",
    "    {'name': 'IBM', 'shares': 100, 'price': 91.1},\n",
    "    {'name': 'IBM2', 'shares': 50, 'price': 520.1},\n",
    "    {'name': 'IBM3', 'shares': 10, 'price': 31.75},\n",
    "    {'name': 'IBM4', 'shares': 122, 'price': 16.2},\n",
    "    {'name': 'IBM5', 'shares': 70, 'price': 115.65},\n",
    "]\n",
    "\n",
    "cheap = heapq.nsmallest(3, portfolio, key=lambda s: s['price'])\n",
    "expensive = heapq.nlargest(3, portfolio, key=lambda s: s['price'])\n",
    "print(cheap)\n",
    "print(expensive)"
   ]
  },
  {
   "cell_type": "markdown",
   "metadata": {},
   "source": [
    "### 从定义的时候就赋予它“有序”的属性，先加入的排在前面，使用模块collections里面的类OrderedDict"
   ]
  },
  {
   "cell_type": "code",
   "execution_count": 7,
   "metadata": {},
   "outputs": [
    {
     "name": "stdout",
     "output_type": "stream",
     "text": [
      "('foo', 1)\n",
      "('bar', 2)\n",
      "('spam', 3)\n",
      "('grok', 4)\n"
     ]
    },
    {
     "data": {
      "text/plain": [
       "'{\"foo\": 1, \"bar\": 2, \"spam\": 3, \"grok\": 4}'"
      ]
     },
     "execution_count": 7,
     "metadata": {},
     "output_type": "execute_result"
    }
   ],
   "source": [
    "from collections import OrderedDict\n",
    "\n",
    "d = OrderedDict()\n",
    "d['foo'] = 1\n",
    "d['bar'] = 2\n",
    "d['spam'] = 3\n",
    "d['grok'] = 4\n",
    "\n",
    "for key in d:\n",
    "    print(key, d[key])\n",
    "\n",
    "\n",
    "import json\n",
    "\n",
    "a = json.dumps(d)\n",
    "a"
   ]
  },
  {
   "cell_type": "markdown",
   "metadata": {},
   "source": [
    "## 合并两个字典 \n",
    "### 最简单的方法就是update，但update会修改掉对象字典；不想改掉原字典，就得copy()出来一个新的"
   ]
  },
  {
   "cell_type": "code",
   "execution_count": 8,
   "metadata": {},
   "outputs": [
    {
     "data": {
      "text/plain": [
       "{'x': 1, 'y': 2, 'z': 4}"
      ]
     },
     "execution_count": 8,
     "metadata": {},
     "output_type": "execute_result"
    }
   ],
   "source": [
    "a = {'x': 1, 'z': 3}\n",
    "b = {'y': 2, 'z': 4}\n",
    "c = a.copy()\n",
    "c.update(b)\n",
    "c"
   ]
  },
  {
   "cell_type": "markdown",
   "metadata": {},
   "source": [
    "### 可以使用collections模块ChainMap函数（Python3），将多个字典逻辑上合成一个"
   ]
  },
  {
   "cell_type": "code",
   "execution_count": 9,
   "metadata": {},
   "outputs": [
    {
     "ename": "ImportError",
     "evalue": "cannot import name ChainMap",
     "output_type": "error",
     "traceback": [
      "\u001b[1;31m---------------------------------------------------------------------------\u001b[0m",
      "\u001b[1;31mImportError\u001b[0m                               Traceback (most recent call last)",
      "\u001b[1;32m<ipython-input-9-b88050b29da1>\u001b[0m in \u001b[0;36m<module>\u001b[1;34m()\u001b[0m\n\u001b[1;32m----> 1\u001b[1;33m \u001b[1;32mfrom\u001b[0m \u001b[0mcollections\u001b[0m \u001b[1;32mimport\u001b[0m \u001b[0mChainMap\u001b[0m\u001b[1;33m\u001b[0m\u001b[0m\n\u001b[0m\u001b[0;32m      2\u001b[0m \u001b[1;33m\u001b[0m\u001b[0m\n\u001b[0;32m      3\u001b[0m \u001b[0mc\u001b[0m \u001b[1;33m=\u001b[0m \u001b[0mChainMap\u001b[0m\u001b[1;33m(\u001b[0m\u001b[0ma\u001b[0m\u001b[1;33m,\u001b[0m \u001b[0mb\u001b[0m\u001b[1;33m)\u001b[0m \u001b[1;31m# 生成的其实不是个字典，但是可以像字典一样用\u001b[0m\u001b[1;33m\u001b[0m\u001b[0m\n\u001b[0;32m      4\u001b[0m \u001b[1;32mprint\u001b[0m\u001b[1;33m(\u001b[0m\u001b[0mc\u001b[0m\u001b[1;33m)\u001b[0m  \u001b[1;31m# print这个c会报错，因为实际上c不是一个新的字典，实体不存在\u001b[0m\u001b[1;33m\u001b[0m\u001b[0m\n\u001b[0;32m      5\u001b[0m \u001b[1;32mprint\u001b[0m\u001b[1;33m(\u001b[0m\u001b[0mc\u001b[0m\u001b[1;33m[\u001b[0m\u001b[1;34m'x'\u001b[0m\u001b[1;33m]\u001b[0m\u001b[1;33m)\u001b[0m\u001b[1;33m\u001b[0m\u001b[0m\n",
      "\u001b[1;31mImportError\u001b[0m: cannot import name ChainMap"
     ]
    }
   ],
   "source": [
    "from collections import ChainMap\n",
    "\n",
    "c = ChainMap(a, b) # 生成的其实不是个字典，但是可以像字典一样用\n",
    "print(c)  # print这个c会报错，因为实际上c不是一个新的字典，实体不存在\n",
    "print(c['x'])\n",
    "print(c['y'])\n",
    "print(c['z'])  # 重复的key，只采用第一个映射中对应的值\n",
    "\n",
    "print(len(c))\n",
    "print(list(c.keys()))\n",
    "print(list(c.values()))\n",
    "\n",
    "c['z'] = 10  # 修改会反馈到原生字典/映射里去\n",
    "print(c)\n",
    "print(b)\n",
    "\n",
    "c['w'] = 40  # 增加元素总是只在第一个映射结构上\n",
    "print(c)\n",
    "print(a)"
   ]
  },
  {
   "cell_type": "markdown",
   "metadata": {},
   "source": [
    "## 比较字典\n",
    "### 字典的key支持常见的集合操作，但是value不支持"
   ]
  },
  {
   "cell_type": "code",
   "execution_count": null,
   "metadata": {},
   "outputs": [],
   "source": [
    "a = {'x': 1, 'y': 2, 'z': 3}\n",
    "b = {'w': 10, 'x': 11, 'y': 2}\n",
    "a = {'x': 1, 'y': 2, 'z': 3}\n",
    "b = {'w': 10, 'x': 11, 'y': 2}\n",
    "print(a.keys() & b.keys())  # Python3 codes\n",
    "print(a.keys() - b.keys())\n",
    "print(a.items() & b.items())  # 返回一个序列，包含了a,b交集的一个tuple, tuple里面是key和value\n",
    "\n",
    "c = {key: a[key] for key in a.keys() - {'z', 'w'}}\n",
    "print(c)"
   ]
  },
  {
   "cell_type": "markdown",
   "metadata": {},
   "source": [
    "# LIST, TUPLE\n",
    "## 快速定义使用变量 - 分解操作_*"
   ]
  },
  {
   "cell_type": "code",
   "execution_count": null,
   "metadata": {},
   "outputs": [],
   "source": [
    "# 如果对象是可迭代的，就可以执行分解操作，快速定义变量得到你想要的值\n",
    "data = ['ACME', 50, 91.1, (2012, 12, 21)]\n",
    "name, shares, price, date = data\n",
    "print(name, shares, price, date)\n",
    "\n",
    "name, shares, price, (year, mon, day) = data\n",
    "print(year, mon, day)\n",
    "\n",
    "# 不要的变量可以用_来直接丢弃\n",
    "_, shares, prices, _ = data\n",
    "print(shares, prices)\n",
    "\n",
    "data2 = 'Hello'\n",
    "a, b, c, d, e = data2\n",
    "print(a, b, c, d, e)\n",
    "\n",
    "# 如果对象的长度是可变的/超过了想分解出来的长度，可以用“*变量”的方式来解决\"too many values to unpack\"的问题\n",
    "a, *b, c = data2\n",
    "print(a, b, c)\n",
    "\n",
    "record = ('Chloe', 'chloe@example.com', '773-555-1212', '847-555-1212')\n",
    "name, email, *phone_numbers = record\n",
    "print(name, email, phone_numbers)\n",
    "\n",
    "# 还可以直接计算变量值\n",
    "record2 = [10, 8, 7, 1, 9, 5, 10, 3]\n",
    "*history, current = record2\n",
    "print(sum(history)/len(history), current)\n",
    "\n",
    "# 或者更多复杂的应用，让代码变得更简洁\n",
    "source = 'nobody:*:-2:-2:Unprivilileged User:/var/empty:/usr/bin/false'\n",
    "uname, *fields, homedir, sh = source.split(\":\")\n",
    "print(name, homedir, sh)\n",
    "\n"
   ]
  },
  {
   "cell_type": "code",
   "execution_count": null,
   "metadata": {},
   "outputs": [],
   "source": [
    "source2 = {{'foo', 1, 2}, {'bar', 'hello'}, {'foo', 3, 4}}  # 复杂字典结构，找出规律分别处理\n",
    "\n",
    "def do_foo(x,y):\n",
    "    print('foo', x, y)\n",
    "\n",
    "def do_bar(s):\n",
    "    print('bar', s)\n",
    "\n",
    "for tag, *args in source2:\n",
    "    if tag == 'foo':\n",
    "        do_foo(*args)\n",
    "    elif tag == 'bar':\n",
    "        do_bar(*args)\n",
    "    else:\n",
    "        pass"
   ]
  },
  {
   "cell_type": "markdown",
   "metadata": {},
   "source": [
    "## 无限的数据，有限历史记录"
   ]
  },
  {
   "cell_type": "code",
   "execution_count": null,
   "metadata": {},
   "outputs": [],
   "source": [
    "from collections import deque\n",
    "\n",
    "q = deque(maxlen=3)\n",
    "for i in range(5):\n",
    "    q.append(i)\n",
    "    print('{} loop: {}'.format(i, list(q)))"
   ]
  },
  {
   "cell_type": "code",
   "execution_count": 53,
   "metadata": {},
   "outputs": [
    {
     "name": "stdout",
     "output_type": "stream",
     "text": [
      "current line: I python\n",
      "\n",
      "*************************\n",
      "previous line: I python\n",
      "\n",
      "current line: Really python\n",
      "\n",
      "*************************\n",
      "previous line: I python\n",
      "\n",
      "previous line: Really python\n",
      "\n",
      "current line: Like python\n",
      "\n",
      "*************************\n",
      "previous line: I python\n",
      "\n",
      "previous line: Really python\n",
      "\n",
      "previous line: Like python\n",
      "\n",
      "current line: The python\n",
      "\n",
      "*************************\n",
      "previous line: I python\n",
      "\n",
      "previous line: Really python\n",
      "\n",
      "previous line: Like python\n",
      "\n",
      "previous line: The python\n",
      "\n",
      "current line: Python python\n",
      "\n",
      "*************************\n",
      "previous line: I python\n",
      "\n",
      "previous line: Really python\n",
      "\n",
      "previous line: Like python\n",
      "\n",
      "previous line: The python\n",
      "\n",
      "previous line: Python python\n",
      "\n",
      "current line: But python\n",
      "\n",
      "*************************\n",
      "previous line: Really python\n",
      "\n",
      "previous line: Like python\n",
      "\n",
      "previous line: The python\n",
      "\n",
      "previous line: Python python\n",
      "\n",
      "previous line: But python\n",
      "\n",
      "current line: Where python\n",
      "\n",
      "*************************\n",
      "previous line: Like python\n",
      "\n",
      "previous line: The python\n",
      "\n",
      "previous line: Python python\n",
      "\n",
      "previous line: But python\n",
      "\n",
      "previous line: Where python\n",
      "\n",
      "current line: Is python\n",
      "\n",
      "*************************\n",
      "previous line: The python\n",
      "\n",
      "previous line: Python python\n",
      "\n",
      "previous line: But python\n",
      "\n",
      "previous line: Where python\n",
      "\n",
      "previous line: Is python\n",
      "\n",
      "current line: The python\n",
      "\n",
      "*************************\n",
      "previous line: Python python\n",
      "\n",
      "previous line: But python\n",
      "\n",
      "previous line: Where python\n",
      "\n",
      "previous line: Is python\n",
      "\n",
      "previous line: The python\n",
      "\n",
      "current line: Route python\n",
      "\n",
      "*************************\n"
     ]
    }
   ],
   "source": [
    "from collections import deque\n",
    "\n",
    "def search_content(lines, pattern, history=5):\n",
    "    previous_lines = deque(maxlen=history)\n",
    "    for line in lines:\n",
    "        if pattern in line:\n",
    "            yield line, previous_lines\n",
    "        previous_lines.append(line)  # 历史记录\n",
    "\n",
    "if __name__ == '__main__':\n",
    "    with open('.\\data\\example1.txt') as f:\n",
    "        for line, previlines in search_content(f, 'python', 5):\n",
    "            for pline in previlines:\n",
    "#                 print('previous line: ' + pline, end='')  # python3 code\n",
    "                print('previous line: ' + pline)\n",
    "#             print('current line: ' + line, end='')  # python3 code\n",
    "            print('current line: ' + line) \n",
    "            print(25*'*')"
   ]
  },
  {
   "cell_type": "markdown",
   "metadata": {},
   "source": [
    "## 一个序列中出现此时最多的元素，使用模块collections里面的类Counter"
   ]
  },
  {
   "cell_type": "code",
   "execution_count": null,
   "metadata": {},
   "outputs": [],
   "source": [
    "import re\n",
    "from collections import Counter\n",
    "\n",
    "\n",
    "with open('example1.txt') as f:\n",
    "    words = re.split(r'(?:\\s|\\n)\\s*', f.read())\n",
    "\n",
    "word_counters = Counter(words)\n",
    "top_three = word_counters.most_common(3)  # most_common是Counter的一个方法\n",
    "print(top_three)\n",
    "print(word_counters['python'])"
   ]
  },
  {
   "cell_type": "markdown",
   "metadata": {},
   "source": [
    "## 一个key对应多个值的字典，优雅的使用模块collections的类defaultdict"
   ]
  },
  {
   "cell_type": "code",
   "execution_count": null,
   "metadata": {},
   "outputs": [],
   "source": [
    "from collections import defaultdict\n",
    "\n",
    "md = defaultdict(list)\n",
    "md['a'].append(4)\n",
    "md['a'].append(8)\n",
    "md['b'].append(1)\n",
    "print(md)\n",
    "\n",
    "md = defaultdict(set)\n",
    "md['a'].add(4)\n",
    "md['a'].add(8)\n",
    "md['b'].add(1)\n",
    "md"
   ]
  },
  {
   "cell_type": "markdown",
   "metadata": {},
   "source": [
    "## 切片命名增加代码可读性使用内部函数slice"
   ]
  },
  {
   "cell_type": "code",
   "execution_count": null,
   "metadata": {},
   "outputs": [],
   "source": [
    "record = '...................100 ........513.25 ................'\n",
    "SHARES = slice(19, 22)\n",
    "PRICE = slice(31, 38)\n",
    "\n",
    "cost = int(record[SHARES]) * float(record[PRICE])\n",
    "print(cost)\n",
    "SHARES.start, SHARES.stop, SHARES.step  # 这个切片对象的实例可以读取操作更多属性"
   ]
  },
  {
   "cell_type": "code",
   "execution_count": null,
   "metadata": {},
   "outputs": [],
   "source": [
    "items = [0, 1, 2, 3, 4, 5, 6]  # 处理列表中硬编码的索引值会更有效\n",
    "a = slice(2, 4)\n",
    "print(items[a])\n",
    "items[a] = [10, 11]\n",
    "print(items)\n",
    "del items[a]\n",
    "print(items)\n",
    "print(a.start, a.stop, a.step)"
   ]
  },
  {
   "cell_type": "markdown",
   "metadata": {},
   "source": [
    "## 序列去重"
   ]
  },
  {
   "cell_type": "code",
   "execution_count": null,
   "metadata": {},
   "outputs": [],
   "source": [
    "# 如果不考虑原序列的顺序的话，序列去重最快的方法是把它转成set\n",
    "a = [\"hello\", \"the\", \"world\", \"it\", \"is\", \"my\", \"world\"]\n",
    "print(a)\n",
    "set(a)"
   ]
  },
  {
   "cell_type": "markdown",
   "metadata": {},
   "source": [
    "### 如果需要去除复制序列中出现的重复元素，并保持原序列前后顺序不变"
   ]
  },
  {
   "cell_type": "code",
   "execution_count": null,
   "metadata": {},
   "outputs": [],
   "source": [
    "def dedupe(items, key=None):\n",
    "    seen = set()\n",
    "    for item in items:\n",
    "        val = item if key is None else key(item)  # 注意这里的key(items)，很有意\n",
    "        if val not in seen:\n",
    "            yield item  # 注意yield的用法\n",
    "            seen.add(val)\n",
    "\n",
    "# 下面是使用这个函数，可以像sorted()和max()一样使用\n",
    "a = [{'x': 1, 'y': 2}, {'x': 1, 'y': 3}, {'x': 1, 'y': 2}, {'x': 2, 'y': 4}]\n",
    "res = list(dedupe(a, key=lambda d: (d['x'], d['y'])))\n",
    "print(res)\n",
    "res = list(dedupe(a, key=lambda d: d['x']))\n",
    "print(res)"
   ]
  },
  {
   "cell_type": "markdown",
   "metadata": {},
   "source": [
    "# String and Text\n",
    "## 排版文档或者很长的字符串,使用模块textwrap"
   ]
  },
  {
   "cell_type": "code",
   "execution_count": null,
   "metadata": {
    "scrolled": true
   },
   "outputs": [],
   "source": [
    "import textwrap\n",
    "import shutil\n",
    "# print(shutil.get_terminal_size().columns)  # Python3 codes\n",
    "\n",
    "from shutil_backports import get_terminal_size as gts  # Python2 codes\n",
    "print(gts().columns)\n",
    "\n",
    "s = r'President Trump on Sunday slammed “the Fake News Media,” which he called “out of control,” after a string of major errors in reporting on his presidency emerged over the past week.“Very little discussion of all the purposely false and defamatory stories put out this week by the Fake News Media,” he tweeted. “They are out of control - correct reporting means nothing to them.”The president continued, “Major lies written, then forced to be withdrawn after they are exposed...a stain on America!”Very little discussion of all the purposely false and defamatory stories put out this week by the Fake News Media. They are out of control - correct reporting means nothing to them. Major lies written, then forced to be withdrawn after they are exposed...a stain on America!'\n",
    "\n",
    "print(textwrap.fill(s, 140));print()  # 每行140个字符\n",
    "print(textwrap.fill(s, 140, initial_indent='>>'));print()  # 每行140个字符，首行缩进\n",
    "print(textwrap.fill(s, 140, subsequent_indent='<<'));print()  # 每行140个字符，非首行缩进\n"
   ]
  },
  {
   "cell_type": "markdown",
   "metadata": {},
   "source": [
    "## 变量差值，使用.format或.format_map"
   ]
  },
  {
   "cell_type": "code",
   "execution_count": null,
   "metadata": {},
   "outputs": [],
   "source": [
    "s = '{name} has {n} messages.'\n",
    "print(s.format(name='Chloe', n=16))\n",
    "\n",
    "s = '{name} has {n} messages.'\n",
    "name = 'Chloe'\n",
    "n = 15\n",
    "# print(s.format_map(vars()))  # Python3"
   ]
  },
  {
   "cell_type": "markdown",
   "metadata": {},
   "source": [
    "### .format_map的高阶用法 Python3"
   ]
  },
  {
   "cell_type": "code",
   "execution_count": null,
   "metadata": {
    "scrolled": true
   },
   "outputs": [],
   "source": [
    "# vars还可以用在实例上:vars(instance)\n",
    "class Info:\n",
    "    def __init__(self, name, n):\n",
    "        self.name = name\n",
    "        self.n = n\n",
    "instance_a = Info('Chloe', 14)\n",
    "print(s.format_map(vars(instance_a)))  # Python3 codes\n",
    "\n",
    "# 如果少了一个参数呢，也不希望它抛异常出去\n",
    "class safesub(dict):  # 注意这里是继承了dict的子类\n",
    "    def __missing__(self, key):\n",
    "        return '{' + key + '}'  # 修改__missing__时候的表现为不报异常，而直接打印{key}这样的代码出来\n",
    "del n\n",
    "print(s.format_map(safesub(vars())))\n",
    "\n",
    "# frame hack: 将替换变量的过程隐藏在一个小型的功能函数里面， 跟函数的栈帧打交道\n",
    "import sys\n",
    "\n",
    "def mysub(text):\n",
    "    return text.format_map(safesub(sys._getframe(1).f_locals))  # sys._getframe获得调用函数的栈信息\n",
    "\n",
    "name = \"Chloe\"\n",
    "n = 12\n",
    "\n",
    "print(mysub('Hello {name}.'))\n",
    "print(mysub('You have {n} messages.'))\n",
    "print(mysub('Your favorite corlor is {color}.'))"
   ]
  },
  {
   "cell_type": "markdown",
   "metadata": {},
   "source": [
    "## 替换字符串有几种思路：str.replace(), re.sub或re.subn, 回调函数"
   ]
  },
  {
   "cell_type": "code",
   "execution_count": null,
   "metadata": {},
   "outputs": [],
   "source": [
    "text = 'Today is 11/27/2012. PyCon starts 3/13/2013.'\n",
    "\n",
    "import re\n",
    "text2 = re.sub(r'(\\d+)/(\\d+)/(\\d+)', r'\\3-\\1-\\2', text)  # 把年月日的顺序和格式调整（替换）掉\n",
    "text2"
   ]
  },
  {
   "cell_type": "code",
   "execution_count": null,
   "metadata": {},
   "outputs": [],
   "source": [
    "text = 'Today is 11/27/2012. PyCon starts 3/13/2013.'\n",
    "\n",
    "datepat = re.compile(r'(\\d+)/(\\d+)/(\\d+)')\n",
    "text3 = datepat.sub(r'\\3-\\1-\\2', text)\n",
    "print(text3)\n",
    "\n",
    "text4, n = datepat.subn(r'\\3-\\1-\\2', text)  # 这里用subn方法得到替换了多少次\n",
    "print(text4, n)"
   ]
  },
  {
   "cell_type": "code",
   "execution_count": null,
   "metadata": {},
   "outputs": [],
   "source": [
    "from calendar import month_abbr\n",
    "\n",
    "def change_date(m):\n",
    "    mon_name = month_abbr[int(m.group(1))]\n",
    "    return '{} {} {}'.format(m.group(2), mon_name, m.group(3))\n",
    "\n",
    "text5 = datepat.sub(change_date, text)  # 这个用法很优雅，注意函数定义中的m.group()，对re.sub有深入了解才能写出这样的方法\n",
    "text5"
   ]
  },
  {
   "cell_type": "markdown",
   "metadata": {},
   "source": [
    "## 正则表达式re"
   ]
  },
  {
   "cell_type": "markdown",
   "metadata": {},
   "source": [
    "### 不区分大小写: flags=re.IGNORECASE"
   ]
  },
  {
   "cell_type": "code",
   "execution_count": null,
   "metadata": {},
   "outputs": [],
   "source": [
    "import re\n",
    "\n",
    "text = 'UPPER PYTHON, lower python, Mixed Python'\n",
    "print(re.findall(r'python', text, flags=re.IGNORECASE))\n",
    "\n",
    "text2 = re.sub('python', 'snake', text, flags=re.IGNORECASE)\n",
    "print(text2)\n",
    "\n",
    "def matchcase(word):  # 替换字符串，但保证跟原来的字符串大小写一致\n",
    "    def replace(m):\n",
    "        text = m.group()\n",
    "        if text.isupper():\n",
    "            return word.upper()\n",
    "        elif text.islower():\n",
    "            return word.lower()\n",
    "        elif text[0].isupper():\n",
    "            return word.capitalize()\n",
    "        else:\n",
    "            return word\n",
    "    return replace\n",
    "\n",
    "text3 = re.sub('python', matchcase('snake'), text, flags=re.IGNORECASE)\n",
    "print(text3)\n"
   ]
  },
  {
   "cell_type": "markdown",
   "metadata": {},
   "source": [
    "### 跨行匹配使用：flags=re.DOTALL"
   ]
  },
  {
   "cell_type": "code",
   "execution_count": null,
   "metadata": {},
   "outputs": [],
   "source": [
    "text3 = '''/* this is a\n",
    "                multiline comment */\n",
    "'''\n",
    "\n",
    "comment = re.compile(r'/\\*(.*?)\\*/', re.DOTALL)  # 匹配两个*号之间的文字\n",
    "comment.findall(text3)"
   ]
  },
  {
   "cell_type": "markdown",
   "metadata": {},
   "source": [
    "### 分割字符串两种思路：split(), re.split()"
   ]
  },
  {
   "cell_type": "code",
   "execution_count": null,
   "metadata": {
    "scrolled": true
   },
   "outputs": [],
   "source": [
    "# re.split()可以同时处理多个分隔符，或者分隔符周围有多个空格这样的情\n",
    "line = 'asdf fjdk; afed, fjek,asdf,    foo'\n",
    "\n",
    "import re\n",
    "\n",
    "print(re.split(r'[;,\\s]\\s*', line))  # 使用了“任意”符号[]\n",
    "print(re.split(r'(;|,|\\s)\\s*', line))  # 用()包起来的方式可以将括号的内容引入捕获组，所以分隔符也会被捕捉出来\n",
    "print(re.split(r'(?:;|,|\\s)\\s*', line))  # 增加?:从而使用了非捕获组，这样分隔符就不会被捕捉出来\n",
    "\n",
    "line2 = 'Computer says \"no\" Phone says \"yes\"'\n",
    "\n",
    "strpat = re.compile(r'\\\"(.*)\\\"')  # ()表示捕获组\n",
    "print(strpat.findall(line2))\n",
    "\n",
    "strpat = re.compile(r'\\\"(.*?)\\\"')  # 加一个?来表示最短匹配\n",
    "print(strpat.findall(line2))\n",
    "\n",
    "strpat = re.compile(r'\\\".*\\\"')  # 如果没有()，则可以理解为整个都是捕获组\n",
    "print(strpat.findall(line2))"
   ]
  },
  {
   "cell_type": "markdown",
   "metadata": {},
   "source": [
    "### 字符串高阶用法：标记流stream of token"
   ]
  },
  {
   "cell_type": "code",
   "execution_count": null,
   "metadata": {
    "scrolled": false
   },
   "outputs": [],
   "source": [
    "text = \"foo = 23 + 42 * 10\"\n",
    "\n",
    "import re\n",
    "NAME = r'(?P<NAME>[a-zA-Z_][a-zA-Z_0-9]*)'\n",
    "NUM = r'(?P<NUM>\\d+)'\n",
    "PLUS = r'(?P<PLUS>\\+)'\n",
    "TIMES = r'(?P<TIMES>\\*)'\n",
    "EQ = r'(?P<EQ>=)'\n",
    "WS = r'(?P<WS>\\s+)'\n",
    "\n",
    "master_pat = re.compile('|'.join([NAME, NUM, PLUS, TIMES, EQ, WS]))\n",
    "scanner = master_pat.scanner('foo = 42')\n",
    "scanner.match()\n",
    "#print(_.lastgroup)\n",
    "\n",
    "from collections import namedtuple\n",
    "\n",
    "Token = namedtuple('Token', ['type', 'value'])\n",
    "\n",
    "def generate_tokens(pat, text):\n",
    "    scanner = pat.scanner(text)\n",
    "    for m in iter(scanner.match, None):\n",
    "        yield Token(m.lastgroup, m.group())\n",
    "\n",
    "for tok in generate_tokens(master_pat, 'foo = 42'):\n",
    "    print(tok)\n",
    "\n",
    "print(\"-\"*40)\n",
    "\n",
    "tokens = (tok for tok in generate_tokens(master_pat, text) if tok.type != 'WS')\n",
    "for tok in tokens:\n",
    "    print(tok)\n"
   ]
  },
  {
   "cell_type": "markdown",
   "metadata": {},
   "source": [
    "# Number"
   ]
  },
  {
   "cell_type": "markdown",
   "metadata": {},
   "source": [
    "## 进制转换使用函数bin(), oct(), hex()和.format()"
   ]
  },
  {
   "cell_type": "code",
   "execution_count": null,
   "metadata": {},
   "outputs": [],
   "source": [
    "x = 1234\n",
    "\n",
    "print(bin(x))\n",
    "print(oct(x))\n",
    "_x = hex(x)\n",
    "print(_x, type(_x))\n"
   ]
  },
  {
   "cell_type": "code",
   "execution_count": null,
   "metadata": {},
   "outputs": [],
   "source": [
    "# 如果不希望出现0b, 0x, 0o这样的前缀，可以使用format()\n",
    "print(format(x, 'b'))\n",
    "print(format(x, 'o'))\n",
    "_x = format(x, 'x')\n",
    "print(_x, type(_x))\n",
    "\n",
    "x = -1234\n",
    "# print(format(x, 'b')) \n",
    "print(format(2**32 + x, 'b'))  # 一个负数，如果想要产生一个对应的无符号数值的话，则需要加上最大值来设置比特位的长度\n",
    "print(format(2**32 + x, 'x'))"
   ]
  },
  {
   "cell_type": "code",
   "execution_count": null,
   "metadata": {
    "scrolled": true
   },
   "outputs": [],
   "source": [
    "# 将字符串形式的整数转换为不同的进制，则使用int()函数再配合适当的进制就可以了\n",
    "print(int('4d2', 16))\n",
    "y = int('10011010010', 2)\n",
    "print(y, type(y))"
   ]
  },
  {
   "cell_type": "markdown",
   "metadata": {},
   "source": [
    "## 随机数使用模块random"
   ]
  },
  {
   "cell_type": "markdown",
   "metadata": {},
   "source": [
    "### 随机选1个值 random.choice"
   ]
  },
  {
   "cell_type": "code",
   "execution_count": 10,
   "metadata": {
    "scrolled": false
   },
   "outputs": [
    {
     "name": "stdout",
     "output_type": "stream",
     "text": [
      "3\n",
      "8\n",
      "1\n",
      "[0, 2, 8, 8, 2, 2, 1, 2, 3, 2, 9, 6, 9, 7, 1, 5, 1, 7, 8, 3, 8, 5, 8, 9, 0, 0, 5, 8, 1, 4]\n"
     ]
    }
   ],
   "source": [
    "import random\n",
    "# random.choice([list])\n",
    "\n",
    "values = range(10)\n",
    "for _ in range(3):\n",
    "        print(random.choice(values))\n",
    "\n",
    "print(list(random.choice(values) for _ in range(30)))"
   ]
  },
  {
   "cell_type": "markdown",
   "metadata": {},
   "source": [
    "### 随机取几个值 random.sample"
   ]
  },
  {
   "cell_type": "code",
   "execution_count": null,
   "metadata": {
    "scrolled": true
   },
   "outputs": [],
   "source": [
    "# random.sample([list], sample_number)\n",
    "for _ in range(5) :\n",
    "    print(random.sample(values, 2), random.sample(values, 3))"
   ]
  },
  {
   "cell_type": "markdown",
   "metadata": {},
   "source": [
    "### 摇骰子 random.shuffle"
   ]
  },
  {
   "cell_type": "code",
   "execution_count": null,
   "metadata": {},
   "outputs": [],
   "source": [
    "# random.shuffle([list])\n",
    "random.shuffle(values)\n",
    "print(values)\n",
    "random.shuffle(values)\n",
    "print(values)"
   ]
  },
  {
   "cell_type": "markdown",
   "metadata": {},
   "source": [
    "### 指定范围内生成随机整数（拆红包） random.randrange"
   ]
  },
  {
   "cell_type": "code",
   "execution_count": null,
   "metadata": {},
   "outputs": [],
   "source": [
    "# random.randrange(start, stop=None, step=1, _int=<type 'int'>, _maxwidth=9007199254740992L )\n",
    "\n",
    "print(random.randrange(1, 10)) # equals random.randint(1,9)  # randrange不包含stop的值，这是python期望的行为\n",
    "print(random.randrange(0,100, 7))  # 0-99内所有数是7的倍数的；step只能是整数"
   ]
  },
  {
   "cell_type": "markdown",
   "metadata": {},
   "source": [
    "### 0到1之间随机数 random.random"
   ]
  },
  {
   "cell_type": "code",
   "execution_count": null,
   "metadata": {},
   "outputs": [],
   "source": [
    "random.random()"
   ]
  },
  {
   "cell_type": "markdown",
   "metadata": {},
   "source": [
    "### 生成长随机数值 random.getrandbits"
   ]
  },
  {
   "cell_type": "code",
   "execution_count": 15,
   "metadata": {},
   "outputs": [],
   "source": [
    "a = random.getrandbits(200)  # 生成200比特位的随机整数值\n",
    "a, len(format(a, 'b'))  # 整数（只要是数字）是没有len()语法的，只有可迭代的sequence or collection才可以用"
   ]
  },
  {
   "cell_type": "markdown",
   "metadata": {},
   "source": [
    "### 真随机种子 random.seed"
   ]
  },
  {
   "cell_type": "code",
   "execution_count": null,
   "metadata": {},
   "outputs": [],
   "source": [
    "print(random.randint(1,10))\n",
    "random.seed()\n",
    "print(random.randint(1, 10))"
   ]
  },
  {
   "cell_type": "markdown",
   "metadata": {},
   "source": [
    "## 处理小数点使用函数round, 模块format和模块decimal"
   ]
  },
  {
   "cell_type": "code",
   "execution_count": null,
   "metadata": {},
   "outputs": [],
   "source": [
    "round(1.23456, 3), round(1234.5678, -2)  #复数表示小数点前面几位"
   ]
  },
  {
   "cell_type": "code",
   "execution_count": null,
   "metadata": {},
   "outputs": [],
   "source": [
    "# round模块操作的原则是四舍五入，如果是五的话，会取到离该值最近的那个偶数上，比如1.5和2.5都会取整到2。\n",
    "# 如果需要更精确的小数计算，不希望因为浮点数天生的误差带来影响，就需要用到decimal模块\n",
    "4.2 + 2.1  # 浮点数天生的误差"
   ]
  },
  {
   "cell_type": "code",
   "execution_count": null,
   "metadata": {
    "scrolled": true
   },
   "outputs": [],
   "source": [
    "from decimal import Decimal\n",
    "a, b = Decimal(4.2), Decimal(2.1)\n",
    "print(Decimal(6.3) == (a+b))\n",
    "a, b = Decimal('4.2'), Decimal('2.1')  # 注意：正确的Decimal是用字符串的形式来定义数字\n",
    "print(Decimal('6.3') == (a+b))\n",
    "\n",
    "\n",
    "from decimal import localcontext\n",
    "a = Decimal('2.3')\n",
    "b = Decimal('1.7')\n",
    "print(a/b)\n",
    "\n",
    "with localcontext() as ctx:\n",
    "    ctx.prec = 3  # 定义数字的位数（如果是0.123类型的数值，不包括小数点前面的0）\n",
    "    print(a/b)\n",
    "\n",
    "with localcontext() as ctx:\n",
    "    ctx.prec = 50\n",
    "    print(a/b)"
   ]
  },
  {
   "cell_type": "markdown",
   "metadata": {},
   "source": [
    "## 分数使用模块中的类fractions.Fraction"
   ]
  },
  {
   "cell_type": "code",
   "execution_count": null,
   "metadata": {},
   "outputs": [],
   "source": [
    "from fractions import Fraction\n",
    "a, b = Fraction(5, 4), Fraction(7, 16)\n",
    "c = a * b\n",
    "print(\"分数c是{}, 数值类型是{}, 分子是{}, 分母是{}, 值是{}\".format(c, type(c),  c.numerator, c.denominator, float(c)))\n",
    "\n",
    "# 生成由特定整数范围内的证书组成的，最接近某个数的分数\n",
    "print(c.limit_denominator(1000) )\n",
    "print(Fraction('3.141592653589793').limit_denominator(100))\n",
    "\n",
    "# 浮点数转成一个分数\n",
    "x = 3.141592653589793\n",
    "Fraction(*x.as_integer_ratio())"
   ]
  },
  {
   "cell_type": "markdown",
   "metadata": {},
   "source": [
    "## 复数使用类complex，函数操作使用模块cmath和numpy"
   ]
  },
  {
   "cell_type": "code",
   "execution_count": null,
   "metadata": {},
   "outputs": [],
   "source": [
    "a = complex(2, 4)\n",
    "b = 3 - 5j\n",
    "print(a, b)\n",
    "\n",
    "print(\"复数a的实部是{real}, 虚部是{imag}, 共轭值是{conjugate}\".format(real=a.real, imag=a.imag, conjugate=a.conjugate()))\n",
    "\n",
    "print(a+b, a-b, a*b, format(a/b, '^100.2f'))\n",
    "format(abs(a), '=>30.1f')"
   ]
  },
  {
   "cell_type": "code",
   "execution_count": null,
   "metadata": {},
   "outputs": [],
   "source": [
    "import cmath\n",
    "cmath.sin(a), cmath.cos(a), cmath.exp(a), cmath.sqrt(-1)"
   ]
  },
  {
   "cell_type": "code",
   "execution_count": null,
   "metadata": {},
   "outputs": [],
   "source": [
    "import numpy as np\n",
    "c = np.array([2+3j, 4+5j, 6-7j, 8-9j])\n",
    "c, c+2, np.sin(c), np.cos(c)"
   ]
  },
  {
   "cell_type": "markdown",
   "metadata": {},
   "source": [
    "## 数据集grid网格计算使用库Numpy，注意跟序列计算是不一样的"
   ]
  },
  {
   "cell_type": "code",
   "execution_count": null,
   "metadata": {},
   "outputs": [],
   "source": [
    "a = [1,2,3,4]\n",
    "# a*2 相当于a.expand(a)，长度增加了。区别是是否改变原来的值\n",
    "c = a.extend(a)\n",
    "print(c, a)\n",
    "\n",
    "a = [1,2,3,4]\n",
    "c = a*2\n",
    "print(c, a)\n",
    "\n",
    "a = [1, 2, 3, \"hello\"]\n",
    "a*2"
   ]
  },
  {
   "cell_type": "code",
   "execution_count": null,
   "metadata": {},
   "outputs": [],
   "source": [
    "import numpy as np\n",
    "\n",
    "a, b = np.array([1,2,3,4]), np.array([4,3,2,1])\n",
    "# a*2对数组进行运算的时候是针对数组里面的每个元素的计算\n",
    "print(a*2)\n",
    "\n",
    "a+2, a+b, a*b, a**b"
   ]
  },
  {
   "cell_type": "code",
   "execution_count": null,
   "metadata": {
    "scrolled": true
   },
   "outputs": [],
   "source": [
    "# numpy在底层是大块的连续内存，由同一类型的数据组成。比如创建一个10000 * 10000的二维浮点数组，用numpy很容易\n",
    "grid = np.zeros(shape=(10000, 10000), dtype=float)\n",
    "np.shape(grid), len(grid)\n",
    "\n",
    "grid += 10\n",
    "grid"
   ]
  },
  {
   "cell_type": "code",
   "execution_count": null,
   "metadata": {
    "scrolled": true
   },
   "outputs": [],
   "source": [
    "a = np.array([[1, 2, 3, 4], [5, 6, 7, 8], [9, 10, 11, 12]])\n",
    "print(a)\n",
    "\n",
    " # [ ]做为分片操作，对于一个数据集来说就是查询其中的某些值\n",
    "print(a[0, :])   # the first row, row 0\n",
    "print(a[:, 1])  # column 1\n",
    "print(a[1:3, 0:2]) # row 1,2 and column 0,1\n",
    "\n",
    "a[1:3, 0:2] += 100\n",
    "print(a)\n",
    "\n",
    "b = a + [200, 201, 202, 202]  # 广播一个row向量列表操作；每一行都会加上相应的值\n",
    "print(b)\n",
    "# a + [1, 2, 3]  # 如果列表长度不对，则改语句会报错\n",
    "\n",
    "c = np.where(a<100, a, 'N/A')  # if a < 100, a; not, equal \"N/A\"，但注意这会改变整个集合的dtype，后面不能再做数学运算了\n",
    "print(a)\n",
    "print(c)\n",
    "# c +1  # 会报错\n",
    "d = np.where(c==\"N/A\", 0, c)\n",
    "d_formated = np.int8(d)  # 还要对整个集合做一个格式化\n",
    "d_formated"
   ]
  },
  {
   "cell_type": "code",
   "execution_count": null,
   "metadata": {
    "scrolled": true
   },
   "outputs": [],
   "source": [
    "# 矩阵和线性代数方面的操作例如矩阵乘法、求行列式，解线性方程等，用numpy库里面的matrix和linalg\n",
    "e = np.matrix([[1, -2, 3], [0, 4, 5], [7, 8, -9]])\n",
    "print(\"原矩阵是:\\n{}\\n转置之后是:\\n{}\\n逆矩阵(数值的倒数)是:\\n{}\\n\".format(e, e.T, e.I))\n",
    "\n",
    "print(\"行列式是:\\n{}\\n特征值是:\\n{}\\n\".format(np.linalg.det(e), np.linalg.eigvals(e)))\n",
    "\n",
    "f = np.matrix([[2], [3], [4]])  # 单列三行矩阵\n",
    "print(e * f)# 矩阵的乘法\n",
    "x = np.linalg.solve(e, f)  # 求解方程式 x : e*x = f\n",
    "print(x)\n",
    "print(e)\n",
    "print(e*x)\n",
    "print(f)"
   ]
  },
  {
   "cell_type": "markdown",
   "metadata": {},
   "source": [
    "## 无限inf和没有数值nan"
   ]
  },
  {
   "cell_type": "code",
   "execution_count": 17,
   "metadata": {
    "scrolled": true
   },
   "outputs": [
    {
     "name": "stdout",
     "output_type": "stream",
     "text": [
      "(inf, -inf, nan, <type 'float'>)\n",
      "True\n",
      "inf\n",
      "inf\n",
      "0.0\n",
      "nan\n",
      "nan\n",
      "nan\n",
      "nan\n",
      "nan\n",
      "nan\n",
      "False\n",
      "True\n"
     ]
    }
   ],
   "source": [
    "a = float('inf')\n",
    "b = float('-inf')\n",
    "c = float('nan')\n",
    "print(a, b, c, type(c))\n",
    "\n",
    "import math\n",
    "print(math.isinf(a))\n",
    "\n",
    "print(a+45)\n",
    "print(a*10)  # 无限加有限的值还是无限\n",
    "print(10 / a)  # 无限在分母上就是0\n",
    "\n",
    "\n",
    "print(a / a)  # 无限/无限 = nan\n",
    "print(a + b) # 无限-无限 = nan\n",
    "print(c + 23)\n",
    "print(c / 2)\n",
    "print(c * 2)\n",
    "print(math.sqrt(c))  # nan的所有计算结果都是nan\n",
    "\n",
    "print(c == c)  # nan在比较的时候永远不会被判定为相等\n",
    "print(math.isnan(c))  # 唯一安全检测NaN的方法"
   ]
  },
  {
   "cell_type": "markdown",
   "metadata": {},
   "source": [
    "## 字节串"
   ]
  },
  {
   "cell_type": "code",
   "execution_count": 4,
   "metadata": {},
   "outputs": [
    {
     "data": {
      "text/plain": [
       "'little'"
      ]
     },
     "execution_count": 4,
     "metadata": {},
     "output_type": "execute_result"
    }
   ],
   "source": [
    "data = b'\\x00\\x124v\\x00x\\x90\\xab\\x00\\xcd\\xef\\x01\\x00#\\x004'\n",
    "len(data)\n",
    "# print(int.from_bytes(data, 'big'))  # 'big'指明最高位在字节流首部，Python3 codes\n",
    "# print(int.from_bytes(data, 'little'))  # 'little'指明最高位在字节流尾部，Python3 codes\n",
    "\n",
    "import sys\n",
    "sys.byteorder  # 系统默认字节流的高位在尾部\n"
   ]
  },
  {
   "cell_type": "code",
   "execution_count": 6,
   "metadata": {},
   "outputs": [
    {
     "ename": "AttributeError",
     "evalue": "'int' object has no attribute 'to_bytes'",
     "output_type": "error",
     "traceback": [
      "\u001b[1;31m---------------------------------------------------------------------------\u001b[0m",
      "\u001b[1;31mAttributeError\u001b[0m                            Traceback (most recent call last)",
      "\u001b[1;32m<ipython-input-6-337431922698>\u001b[0m in \u001b[0;36m<module>\u001b[1;34m()\u001b[0m\n\u001b[0;32m      3\u001b[0m \u001b[1;31m# print(x.to_bytes(32, 'little'))  # Python3 codes\u001b[0m\u001b[1;33m\u001b[0m\u001b[1;33m\u001b[0m\u001b[0m\n\u001b[0;32m      4\u001b[0m \u001b[0mx\u001b[0m \u001b[1;33m=\u001b[0m \u001b[1;36m0x01020304\u001b[0m\u001b[1;33m\u001b[0m\u001b[0m\n\u001b[1;32m----> 5\u001b[1;33m \u001b[1;32mprint\u001b[0m\u001b[1;33m(\u001b[0m\u001b[0mx\u001b[0m\u001b[1;33m.\u001b[0m\u001b[0mto_bytes\u001b[0m\u001b[1;33m(\u001b[0m\u001b[1;36m4\u001b[0m\u001b[1;33m,\u001b[0m \u001b[1;34m'big'\u001b[0m\u001b[1;33m)\u001b[0m\u001b[1;33m)\u001b[0m\u001b[1;33m\u001b[0m\u001b[0m\n\u001b[0m\u001b[0;32m      6\u001b[0m \u001b[1;32mprint\u001b[0m\u001b[1;33m(\u001b[0m\u001b[0mx\u001b[0m\u001b[1;33m.\u001b[0m\u001b[0mto_bytes\u001b[0m\u001b[1;33m(\u001b[0m\u001b[1;36m4\u001b[0m\u001b[1;33m,\u001b[0m \u001b[1;34m'little'\u001b[0m\u001b[1;33m)\u001b[0m\u001b[1;33m)\u001b[0m\u001b[1;33m\u001b[0m\u001b[0m\n",
      "\u001b[1;31mAttributeError\u001b[0m: 'int' object has no attribute 'to_bytes'"
     ]
    }
   ],
   "source": [
    "x = 94525377821947740945920721189797940\n",
    "# print(x.to_bytes(16, 'big'))  # 指定字节数和字节序， Python3 codes\n",
    "# print(x.to_bytes(32, 'little'))  # Python3 codes\n",
    "x = 0x01020304\n",
    "# print(x.to_bytes(4, 'big'))\n",
    "# print(x.to_bytes(4, 'little'))"
   ]
  },
  {
   "cell_type": "code",
   "execution_count": 9,
   "metadata": {
    "scrolled": false
   },
   "outputs": [
    {
     "name": "stdout",
     "output_type": "stream",
     "text": [
      "335381300113661875107536852714019056160355655333978849017944067\n",
      "208\n"
     ]
    }
   ],
   "source": [
    "x = 523 ** 23\n",
    "print(x)\n",
    "# print(x.to_bytes(16, 'little'))\n",
    "print(x.bit_length())\n",
    "nbytes, rem = divmod(x.bit_length(), 8)\n",
    "if rem:\n",
    "    nbytes += 1\n",
    "# print(x.to_bytes(nbytes, 'little'))  # Python3 codes"
   ]
  },
  {
   "cell_type": "markdown",
   "metadata": {},
   "source": [
    "# 格式输出使用模块format"
   ]
  },
  {
   "cell_type": "markdown",
   "metadata": {},
   "source": [
    "## 传统方式%"
   ]
  },
  {
   "cell_type": "code",
   "execution_count": 41,
   "metadata": {},
   "outputs": [
    {
     "name": "stdout",
     "output_type": "stream",
     "text": [
      "1234.57\n",
      "    1234.6\n",
      "1234.6    \n"
     ]
    }
   ],
   "source": [
    "x =1234.5678\n",
    "print('%0.2f' % x)\n",
    "print('%10.1f' % x)\n",
    "print('%-10.1f' % x)"
   ]
  },
  {
   "cell_type": "markdown",
   "metadata": {},
   "source": [
    "## format模式"
   ]
  },
  {
   "cell_type": "code",
   "execution_count": 47,
   "metadata": {},
   "outputs": [
    {
     "name": "stdout",
     "output_type": "stream",
     "text": [
      "1234.57\n",
      "                                                                                              1234.6\n",
      "1234.6..............................................................................................\n",
      "                                              1234.568                                              \n",
      "1,234.56789\n",
      "1,234.6\n",
      "-1234.57\n",
      "1.234568e+03\n",
      "1.23e+03\n"
     ]
    }
   ],
   "source": [
    "x = 1234.56789\n",
    "print(format(x, '0.2f'))  # 顶首位输出，保留小数点后两位\n",
    "print(format(x, '>100.1f'))  # 共一百个字符位，右对齐，小数点后1位\n",
    "print(format(x, '.<100.1f'))  # 共一百个字符位，左对齐，小数点后1位，填充小数点\n",
    "print(format(x, '^100.3f'))  # 居中\n",
    "print(format(x, ','))  # 千位的逗号，inclusion of thousands separator\n",
    "print(format(x, '0,.1f'))  # 千位的逗号的另外一种表示方法\n",
    "print(format(-x, '0.2f'))\n",
    "print(format(x, 'e'))  # 科学计数法\n",
    "print(format(x, '0.2e'))"
   ]
  },
  {
   "cell_type": "markdown",
   "metadata": {},
   "source": [
    "# Date Time"
   ]
  },
  {
   "cell_type": "markdown",
   "metadata": {},
   "source": [
    "## 时间的单位转换使用模块datetime，更复杂的时间处理比如时区，模糊时间，节日等使用第三方库dateutil，专门的时区处理使用模块pytz"
   ]
  },
  {
   "cell_type": "markdown",
   "metadata": {},
   "source": [
    "### 特定的字符串转化为日期 datetime.striptime"
   ]
  },
  {
   "cell_type": "code",
   "execution_count": 36,
   "metadata": {},
   "outputs": [
    {
     "name": "stdout",
     "output_type": "stream",
     "text": [
      "2017-12-14 15:00:33.171000\n",
      "(datetime.timedelta(1908, 54033, 171000), <type 'datetime.timedelta'>)\n"
     ]
    }
   ],
   "source": [
    "from datetime import datetime\n",
    "\n",
    "text = '2012-09-23'\n",
    "y = datetime.strptime(text, '%Y-%m-%d')\n",
    "\n",
    "z = datetime.now()\n",
    "print(z)\n",
    "diff = z - y\n",
    "print(diff, type(diff))\n",
    "# timedelta([days[, seconds[, microseconds[, milliseconds[, minutes[, hours[, weeks]]]]]]])"
   ]
  },
  {
   "cell_type": "markdown",
   "metadata": {},
   "source": [
    "### 相对时间计算datetime.timedelta"
   ]
  },
  {
   "cell_type": "code",
   "execution_count": 13,
   "metadata": {
    "collapsed": true
   },
   "outputs": [
    {
     "name": "stdout",
     "output_type": "stream",
     "text": [
      "3\n",
      "(59400, 16)\n",
      "88.5\n"
     ]
    },
    {
     "data": {
      "text/plain": [
       "['__abs__',\n",
       " '__add__',\n",
       " '__class__',\n",
       " '__delattr__',\n",
       " '__div__',\n",
       " '__doc__',\n",
       " '__eq__',\n",
       " '__floordiv__',\n",
       " '__format__',\n",
       " '__ge__',\n",
       " '__getattribute__',\n",
       " '__gt__',\n",
       " '__hash__',\n",
       " '__init__',\n",
       " '__le__',\n",
       " '__lt__',\n",
       " '__mul__',\n",
       " '__ne__',\n",
       " '__neg__',\n",
       " '__new__',\n",
       " '__nonzero__',\n",
       " '__pos__',\n",
       " '__radd__',\n",
       " '__rdiv__',\n",
       " '__reduce__',\n",
       " '__reduce_ex__',\n",
       " '__repr__',\n",
       " '__rfloordiv__',\n",
       " '__rmul__',\n",
       " '__rsub__',\n",
       " '__setattr__',\n",
       " '__sizeof__',\n",
       " '__str__',\n",
       " '__sub__',\n",
       " '__subclasshook__',\n",
       " 'days',\n",
       " 'max',\n",
       " 'microseconds',\n",
       " 'min',\n",
       " 'resolution',\n",
       " 'seconds',\n",
       " 'total_seconds']"
      ]
     },
     "execution_count": 13,
     "metadata": {},
     "output_type": "execute_result"
    }
   ],
   "source": [
    "from datetime import timedelta\n",
    "a = timedelta(days=2, hours=6)\n",
    "b = timedelta(hours=34.5)  # 时间差也可以叠加运算，和响应的属性\n",
    "c = a + b\n",
    "print(c.days)\n",
    "print(c.seconds, c.seconds / 3600)\n",
    "print(c.total_seconds() / 3600)\n",
    "dir(c)"
   ]
  },
  {
   "cell_type": "markdown",
   "metadata": {},
   "source": [
    "### 直接日期定义datetime.datetime"
   ]
  },
  {
   "cell_type": "code",
   "execution_count": 17,
   "metadata": {},
   "outputs": [
    {
     "name": "stdout",
     "output_type": "stream",
     "text": [
      "2 days, 0:00:00\n",
      "1 day, 0:00:00\n"
     ]
    }
   ],
   "source": [
    "# datetime可以正确处理闰年\n",
    "a = datetime(2012, 3, 1)\n",
    "b = datetime(2012, 2, 28)\n",
    "print(a - b)\n",
    "a = datetime(2017, 3, 1)\n",
    "b = datetime(2017, 2, 28)\n",
    "print(a-b)"
   ]
  },
  {
   "cell_type": "markdown",
   "metadata": {},
   "source": [
    "### 时间运算"
   ]
  },
  {
   "cell_type": "code",
   "execution_count": 29,
   "metadata": {
    "scrolled": false
   },
   "outputs": [
    {
     "name": "stdout",
     "output_type": "stream",
     "text": [
      "2017-09-23 00:00:00\n",
      "2017-10-03 00:00:00\n",
      "89\n",
      "2017-12-14 14:39:51.357000\n",
      "2017-12-14 14:49:51.357000\n",
      "3\n",
      "(59400, 16)\n",
      "88.5\n",
      "2 days, 0:00:00\n",
      "1 day, 0:00:00\n"
     ]
    }
   ],
   "source": [
    "from datetime import datetime, timedelta\n",
    "\n",
    "\n",
    "a = datetime(2017, 9, 23)  # 指定时间\n",
    "print(a)\n",
    "print(a + timedelta(days=10))  # 指定时间前后\n",
    "\n",
    "b = datetime(2017, 12, 21)\n",
    "d = b - a  # 差几天\n",
    "print(d.days)\n",
    "\n",
    "now = datetime.today()  # 当前时间\n",
    "print(now)\n",
    "print(now + timedelta(minutes=10)) "
   ]
  },
  {
   "cell_type": "markdown",
   "metadata": {},
   "source": [
    "### 更复杂的相对时间使用dateutil.relativedelta.relativedelta"
   ]
  },
  {
   "cell_type": "code",
   "execution_count": 23,
   "metadata": {
    "scrolled": true
   },
   "outputs": [
    {
     "name": "stdout",
     "output_type": "stream",
     "text": [
      "2012-10-23 00:00:00\n",
      "2013-01-23 00:00:00\n",
      "(datetime.timedelta(89), <type 'datetime.timedelta'>)\n",
      "(relativedelta(months=+2, days=+28), <class 'dateutil.relativedelta.relativedelta'>)\n",
      "(2, 28)\n"
     ]
    }
   ],
   "source": [
    "from dateutil.relativedelta import relativedelta\n",
    "\n",
    "\n",
    "a = datetime(2012, 9, 23)\n",
    "# a + timedelta(months=1)  # datetime最长能处理到天数，周数。TypeError: 'months' is an invalid keyword argument for this function\n",
    "\n",
    "print(a + relativedelta(months=+1))\n",
    "print(a + relativedelta(months=+4))\n",
    "\n",
    "b = datetime(2012, 12, 21)\n",
    "d = b - a\n",
    "print(d, type(d))\n",
    "d = relativedelta(months=+2, days=+28)\n",
    "print(d, type(d))\n",
    "print(d.months, d.days)\n",
    "%pdoc relativedelta"
   ]
  },
  {
   "cell_type": "code",
   "execution_count": null,
   "metadata": {},
   "outputs": [],
   "source": [
    "from datetime import datetime, timedelta\n",
    "from dateutil.relativedelta import relativedelta\n",
    "\n",
    "# 计算上周五的日期\n",
    "d = datetime.today()\n",
    "print(d)\n",
    "print(d + relativedelta(weekday=FR))  # 下一个星期五\n",
    "print(d + relativedelta(weekday=FR(-1)))  # 上一个星期五\n",
    "\n",
    "# 列出指定的日期或时间范围，最简单的方法如下\n",
    "def date_range(start, stop, step):\n",
    "    while start < stop:\n",
    "        yield start\n",
    "        start += step\n",
    "\n",
    "for d in date_range(datetime(2017,12, 11), datetime(2017, 12, 31), timedelta(hours=12)):\n",
    "    print(d)"
   ]
  },
  {
   "cell_type": "markdown",
   "metadata": {},
   "source": [
    "### 时区pytz"
   ]
  },
  {
   "cell_type": "code",
   "execution_count": 40,
   "metadata": {},
   "outputs": [
    {
     "name": "stdout",
     "output_type": "stream",
     "text": [
      "2012-12-21 09:30:00\n",
      "2012-12-21 09:30:00-06:00\n",
      "2012-12-21 21:00:00+05:30\n",
      "2012-12-21 23:30:00+08:00\n",
      "2012-12-21 15:30:00+00:00\n",
      "2012-12-21 16:00:00+00:00\n",
      "A naive datetime is like 2012-12-21 09:30:00 and a local time is like 2012-12-21 09:30:00-06:00, but they are both datetime.datetime object.\n",
      "[u'Asia/Kolkata']\n",
      "[u'Asia/Shanghai', u'Asia/Urumqi']\n"
     ]
    }
   ],
   "source": [
    "from datetime import datetime, timedelta\n",
    "import pytz\n",
    "\n",
    "d = datetime(2012, 12, 21, 9, 30, 0)  # naive time: 没有tzinfo的datetime.datetime\n",
    "print(d)\n",
    "\n",
    "central = pytz.timezone('US/Central')  # 生成特定时区的对象\n",
    "loc_d = central.localize(d)  # 通过系统数据，计算特定时区的当地时间并附加上时区信息tzinfo，变成带有tzinfo的datetime.datetime\n",
    "print(loc_d)\n",
    "\n",
    "bang_d = loc_d.astimezone(pytz.timezone('Asia/Kolkata'))  # 计算新时区内的时间。注意： astimezone() cannot be applied to a naive datetime\n",
    "print(bang_d)\n",
    "\n",
    "china_d = loc_d.astimezone(pytz.timezone('Asia/Shanghai'))\n",
    "print(china_d)\n",
    "\n",
    "utc_d = loc_d.astimezone(pytz.utc)\n",
    "print(utc_d)\n",
    "\n",
    "later_utc_d = utc_d + timedelta(minutes=30)  # 因为还是datetime，所以可以和timedelta进行运算\n",
    "print(later_utc_d)\n",
    "\n",
    "print(\"A naive datetime is like {} and a local time is like {}, but they are both datetime.datetime object.\".format(d, loc_d))\n",
    "\n",
    "# 想知道一个时区的具体名称，可以使用ISO3166国家代码作为key来查询\n",
    "\n",
    "print(pytz.country_timezones['IN'])\n",
    "print(pytz.country_timezones['CN'])\n"
   ]
  },
  {
   "cell_type": "markdown",
   "metadata": {},
   "source": [
    "# HTML\n",
    "## 有些时候需要对&entity或者&#code这样的实体替换为响应的文本，或者需要生成文本，但对特定的字符比如<>&做转义处理"
   ]
  },
  {
   "cell_type": "code",
   "execution_count": null,
   "metadata": {},
   "outputs": [],
   "source": [
    "import html\n",
    "s = 'Elements are written as \"<tag>text</tag>\".'\n",
    "print(s)\n",
    "print(html.escape(s))\n",
    "print(html.escape(s, quote=False))\n",
    "\n",
    "from html.parser import HTMLParser\n",
    "s = \"Spicy &quot;Jalape&#241;o&quot.\"\n",
    "p = HTMLParser()\n",
    "print(p.unescape(s))\n",
    "\n",
    "from xml.sax.saxutils import unescape\n",
    "t = 'The prompt is &gt;&gt;&gt;'\n",
    "print(unescape(t))\n",
    "\n",
    "# from xml.etree.ElmentTree import parse  # Python3 codes"
   ]
  },
  {
   "cell_type": "markdown",
   "metadata": {},
   "source": [
    "# 文件读写"
   ]
  },
  {
   "cell_type": "markdown",
   "metadata": {},
   "source": [
    "## 文件位置目录和路径，使用模块os"
   ]
  },
  {
   "cell_type": "markdown",
   "metadata": {},
   "source": [
    "### 文件路径组合分解"
   ]
  },
  {
   "cell_type": "code",
   "execution_count": null,
   "metadata": {},
   "outputs": [],
   "source": []
  }
 ],
 "metadata": {
  "kernelspec": {
   "display_name": "Python 2",
   "language": "python",
   "name": "python2"
  },
  "language_info": {
   "codemirror_mode": {
    "name": "ipython",
    "version": 2
   },
   "file_extension": ".py",
   "mimetype": "text/x-python",
   "name": "python",
   "nbconvert_exporter": "python",
   "pygments_lexer": "ipython2",
   "version": "2.7.11"
  }
 },
 "nbformat": 4,
 "nbformat_minor": 2
}
