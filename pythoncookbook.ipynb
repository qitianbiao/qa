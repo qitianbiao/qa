{
 "cells": [
  {
   "cell_type": "code",
   "execution_count": 1,
   "metadata": {},
   "outputs": [
    {
     "name": "stdout",
     "output_type": "stream",
     "text": [
      "[(10.75, 'FB'), (37.2, 'HPQ'), (45.23, 'ACME'), (205.55, 'IBM'), (612.78, 'AAPL')]\n",
      "{10.75: 'FB', 612.78: 'AAPL', 205.55: 'IBM', 37.2: 'HPQ', 45.23: 'ACME'}\n",
      "AAPL\n",
      "FB\n",
      "[{'lname': 'Chloe4', 'uid': 1004, 'fname': 'Big'}, {'lname': 'Chloe', 'uid': 1003, 'fname': 'Brian'}, {'lname': 'Chloe2', 'uid': 1002, 'fname': 'Jack'}, {'lname': 'Chloe3', 'uid': 1001, 'fname': 'Ken'}]\n",
      "[{'lname': 'Chloe3', 'uid': 1001, 'fname': 'Ken'}, {'lname': 'Chloe2', 'uid': 1002, 'fname': 'Jack'}, {'lname': 'Chloe', 'uid': 1003, 'fname': 'Brian'}, {'lname': 'Chloe4', 'uid': 1004, 'fname': 'Big'}]\n",
      "[{'lname': 'Chloe', 'uid': 1003, 'fname': 'Brian'}, {'lname': 'Chloe2', 'uid': 1002, 'fname': 'Jack'}, {'lname': 'Chloe3', 'uid': 1001, 'fname': 'Ken'}, {'lname': 'Chloe4', 'uid': 1004, 'fname': 'Big'}]\n",
      "[{'lname': 'Chloe', 'uid': 1003, 'fname': 'Brian'}, {'lname': 'Chloe2', 'uid': 1002, 'fname': 'Jack'}, {'lname': 'Chloe3', 'uid': 1001, 'fname': 'Ken'}, {'lname': 'Chloe4', 'uid': 1004, 'fname': 'Big'}]\n"
     ]
    }
   ],
   "source": [
    "prices = {\n",
    "    'ACME': 45.23,\n",
    "    'AAPL': 612.78,\n",
    "    'IBM': 205.55,\n",
    "    'HPQ': 37.20,\n",
    "    'FB': 10.75\n",
    "}\n",
    "\n",
    "\"\"\"\n",
    "按照股票价格排序\n",
    "\"\"\"\n",
    "prices_sorted = sorted(zip(prices.values(), prices.keys()))  # return a list contains tuple\n",
    "prices_max = max(zip(prices.values(), prices.keys()))\n",
    "print(prices_sorted)\n",
    "print(dict(zip(prices.values(), prices.keys())))\n",
    "\n",
    "\"\"\"\n",
    "传递key参数也可以实现\n",
    "\"\"\"\n",
    "prices_max = max(prices, key=lambda k: prices[k])\n",
    "prices_min = min(prices, key=lambda k: prices[k])\n",
    "print(prices_max)\n",
    "print(prices_min)\n",
    "\n",
    "\n",
    "\"\"\"\n",
    "要是这个字典列表的结构比较复杂，排序的时候我们要用到operator模块中的itemgetter函数\n",
    "\"\"\"\n",
    "rows = [\n",
    "    {'fname': 'Brian', 'lname': 'Chloe', 'uid': 1003},\n",
    "    {'fname': 'Jack', 'lname': 'Chloe2', 'uid': 1002},\n",
    "    {'fname': 'Ken', 'lname': 'Chloe3', 'uid': 1001},\n",
    "    {'fname': 'Big', 'lname': 'Chloe4', 'uid': 1004},\n",
    "]\n",
    "\n",
    "from operator import itemgetter\n",
    "\n",
    "rows_by_fname = sorted(rows, key=itemgetter('fname'))\n",
    "print(rows_by_fname)\n",
    "rows_by_uid = sorted(rows, key=itemgetter('uid'))\n",
    "print(rows_by_uid)\n",
    "\n",
    "rows_by_lfname = sorted(rows, key=itemgetter('lname', 'fname'))\n",
    "print(rows_by_lfname)\n",
    "\n",
    "rows_by_lfname = sorted(rows, key=lambda r: (r['lname'], r['fname']))\n",
    "print(rows_by_lfname)\n"
   ]
  }
 ],
 "metadata": {
  "kernelspec": {
   "display_name": "Python 2",
   "language": "python",
   "name": "python2"
  },
  "language_info": {
   "codemirror_mode": {
    "name": "ipython",
    "version": 2
   },
   "file_extension": ".py",
   "mimetype": "text/x-python",
   "name": "python",
   "nbconvert_exporter": "python",
   "pygments_lexer": "ipython2",
   "version": "2.7.11"
  }
 },
 "nbformat": 4,
 "nbformat_minor": 2
}
